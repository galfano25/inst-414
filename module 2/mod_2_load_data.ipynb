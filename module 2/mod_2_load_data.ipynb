{
 "cells": [
  {
   "cell_type": "markdown",
   "metadata": {},
   "source": [
    "code schema:\n",
    "\n",
    "get list of airports in Europe - their IATA + ICAO code (key is ICAO)\n",
    "web scraping - https://airmundo.com/en/airport-codes-european-airports/ \n",
    "    - this is for the purpose of calling airports \n",
    "\n",
    "for icao code, call the arrivals by airport and map the count of arrivals to the departure airport \n",
    "\n",
    "dictionary: \n",
    "    key: icao\n",
    "        value: {key: icao of departure, value: count of arrivals}\n",
    "\n",
    "making network graph:\n",
    "for key in arrivals:\n",
    "    add weighted direction from departure icao \n",
    "    each airport is a node\n",
    "        add node for every airport that is mentioned\n",
    "    each arrival is an edge \n",
    "\n",
    "centrality would be measured by number of arrivals (i.e. direction+weight)\n"
   ]
  },
  {
   "cell_type": "markdown",
   "metadata": {},
   "source": [
    "# Only run the below code once to get the json data."
   ]
  },
  {
   "cell_type": "code",
   "execution_count": 10,
   "metadata": {},
   "outputs": [],
   "source": [
    "import requests\n",
    "from bs4 import BeautifulSoup\n",
    "\n",
    "#generates dictionary of european airports by their IACO and IATA codes \n",
    "page = requests.get(\"https://airmundo.com/en/airport-codes-european-airports/\")\n",
    "soup = BeautifulSoup(page.text, \"html.parser\")\n",
    "body = soup.find_all(\"tr\")\n",
    "\n",
    "airport_codes = {}\n",
    "i=1\n",
    "while i<len(body):\n",
    "    data = body[i].find_all(\"td\")\n",
    "    airport_codes[data[3].get_text(strip=True)] = data[2].get_text(strip=True)\n",
    "    i+=1\n"
   ]
  },
  {
   "cell_type": "code",
   "execution_count": 11,
   "metadata": {},
   "outputs": [
    {
     "name": "stdout",
     "output_type": "stream",
     "text": [
      "Error: 404 Client Error:  for url: https://opensky-network.org/api/flights/arrival?airport=LATI&begin=1717200000&end=1717588799. LATI will not be included.\n",
      "Error: 404 Client Error:  for url: https://opensky-network.org/api/flights/arrival?airport=UDYZ&begin=1717200000&end=1717588799. UDYZ will not be included.\n"
     ]
    },
    {
     "ename": "KeyboardInterrupt",
     "evalue": "",
     "output_type": "error",
     "traceback": [
      "\u001b[1;31m---------------------------------------------------------------------------\u001b[0m",
      "\u001b[1;31mKeyboardInterrupt\u001b[0m                         Traceback (most recent call last)",
      "Cell \u001b[1;32mIn[11], line 24\u001b[0m\n\u001b[0;32m     21\u001b[0m data \u001b[38;5;241m=\u001b[39m response\u001b[38;5;241m.\u001b[39mjson()\n\u001b[0;32m     23\u001b[0m arrivals\u001b[38;5;241m.\u001b[39mappend(data)\n\u001b[1;32m---> 24\u001b[0m \u001b[43mtime\u001b[49m\u001b[38;5;241;43m.\u001b[39;49m\u001b[43msleep\u001b[49m\u001b[43m(\u001b[49m\u001b[38;5;241;43m1\u001b[39;49m\u001b[43m)\u001b[49m\n",
      "\u001b[1;31mKeyboardInterrupt\u001b[0m: "
     ]
    }
   ],
   "source": [
    "import time\n",
    "\n",
    "\"\"\"\n",
    "Date range:\n",
    "June 01 2024 - June 05 2024 or\n",
    "1717200000 - 1717588799\n",
    "\"\"\"\n",
    "\n",
    "arrivals = []\n",
    "\n",
    "\"\"\"takes a while to run. opensky has a 400 calls per day limit for anonymous users. there are about 264 airports in airport_codes. do not run more than once a day.\"\"\"\n",
    "for icao in airport_codes.keys():\n",
    "    try:\n",
    "        response = requests.get(f\"https://opensky-network.org/api/flights/arrival?airport={icao}&begin=1717200000&end=1717588799\")\n",
    "        response.raise_for_status()  \n",
    "    except requests.exceptions.HTTPError as error:\n",
    "        \"\"\"About 50 airports failed to receive a response for the period requested. See \"not_included.txt\" for more detail.\"\"\"\n",
    "        print(f\"Error: {error}. {icao} will not be included.\")\n",
    "        continue \n",
    "\n",
    "    data = response.json()\n",
    "\n",
    "    arrivals.append(data)\n",
    "    time.sleep(1)\n",
    "\n"
   ]
  },
  {
   "cell_type": "code",
   "execution_count": null,
   "metadata": {},
   "outputs": [],
   "source": [
    "import json\n",
    "import os\n",
    "\n",
    "json_file = \"data.json\"\n",
    "\n",
    "if os.path.exists(json_file):\n",
    "    \"\"\"write results to a json file\"\"\"\n",
    "    with open(json_file, \"w\") as file:\n",
    "        json.dump(arrivals, file, indent=4)\n",
    "else:\n",
    "    raise Exception(\"Please create a file titled 'data.json' in this directory to store the data in json format.\")"
   ]
  }
 ],
 "metadata": {
  "kernelspec": {
   "display_name": "Python 3",
   "language": "python",
   "name": "python3"
  },
  "language_info": {
   "codemirror_mode": {
    "name": "ipython",
    "version": 3
   },
   "file_extension": ".py",
   "mimetype": "text/x-python",
   "name": "python",
   "nbconvert_exporter": "python",
   "pygments_lexer": "ipython3",
   "version": "3.11.1"
  }
 },
 "nbformat": 4,
 "nbformat_minor": 2
}
